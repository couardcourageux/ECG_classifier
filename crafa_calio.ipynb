{
 "cells": [
  {
   "cell_type": "markdown",
   "metadata": {},
   "source": [
    "# Code du projet d'apprentissage de Maxime Calio et Jules Crafa"
   ]
  },
  {
   "cell_type": "markdown",
   "metadata": {},
   "source": [
    "## Librairies et fonctions "
   ]
  },
  {
   "cell_type": "markdown",
   "metadata": {},
   "source": [
    "### Import des librairies"
   ]
  },
  {
   "cell_type": "code",
   "execution_count": 52,
   "metadata": {},
   "outputs": [],
   "source": [
    "import matplotlib.pyplot as plt\n",
    "import seaborn as sns\n",
    "import tensorflow as tf\n",
    "from tensorflow import keras\n",
    "from sklearn import preprocessing\n",
    "import pandas as pd\n",
    "import numpy as np\n"
   ]
  },
  {
   "cell_type": "markdown",
   "metadata": {},
   "source": [
    "### Fonctions customisées"
   ]
  },
  {
   "cell_type": "markdown",
   "metadata": {},
   "source": [
    "#### CNN"
   ]
  },
  {
   "cell_type": "code",
   "execution_count": 53,
   "metadata": {},
   "outputs": [],
   "source": [
    "def create_cnn(x_train, y_train, nb_layers=1, drop=0):\n",
    "    # permet de conserver la forme des données au fil de leur passage dans le cnn\n",
    "    padding = 'same'\n",
    "    \n",
    "    # valeur du décalage appliqué à chaque filtre\n",
    "    stride = 1\n",
    "    \n",
    "    # taille du noyau de convolution utilisé par les filtres\n",
    "    kernel_size = 15\n",
    "    \n",
    "    # nombre de filtres utilisés\n",
    "    filters = 5\n",
    "    \n",
    "    # fonction d'activation    \n",
    "    activation = 'relu'\n",
    "    \n",
    "    # création de la couche d'entrée, dont la forme est celle d'1 série temporelle ESG\n",
    "    input_layer = keras.layers.Input(x_train.shape[1:])\n",
    "    \n",
    "    # première couche de convolution, appliquant les paramétres\n",
    "    conv_1 = keras.layers.Conv1D(\n",
    "        filters=filters,\n",
    "        kernel_size=kernel_size,\n",
    "        strides=stride,\n",
    "        padding=padding,\n",
    "        activation=activation\n",
    "    )(input_layer)\n",
    "    \n",
    "    # couche de réduction du résultat de la convolution\n",
    "    pooling_1 = keras.layers.MaxPooling1D(pool_size = 2, strides = 2, \n",
    "                                          padding='valid')(conv_1)\n",
    "    \n",
    "    # si on veut un modèle 2 couches, on réitère le processus\n",
    "    if nb_layers == 2 :\n",
    "    \n",
    "        conv_2 = keras.layers.Conv1D(\n",
    "            filters=filters,\n",
    "            kernel_size=kernel_size,\n",
    "            strides=stride,\n",
    "            padding=padding,\n",
    "            activation=activation\n",
    "        )(pooling_1)\n",
    "        pooling_2 = keras.layers.MaxPooling1D(pool_size = 2, strides = 2, \n",
    "                                            padding='valid')(conv_2)\n",
    "    \n",
    "        flattened = keras.layers.Flatten()(pooling_2)\n",
    "        \n",
    "    else:\n",
    "        flattened = keras.layers.Flatten()(pooling_1)\n",
    "        \n",
    "    # flattened est une couche transformant la forme de la sortie, la renverse pour la rendre \n",
    "    # compatible    \n",
    "        \n",
    "    # couche de sortie, units = nb de classes, ici y_train.shape[1]\n",
    "    output_layer = keras.layers.Dense(units=y_train.shape[1], activation='softmax')(flattened)\n",
    "    model = keras.models.Model(inputs=input_layer, outputs=output_layer)\n",
    "    \n",
    "    # le modèle est renvoyé\n",
    "    return model"
   ]
  },
  {
   "cell_type": "markdown",
   "metadata": {},
   "source": [
    "#### RNN"
   ]
  },
  {
   "cell_type": "code",
   "execution_count": 54,
   "metadata": {},
   "outputs": [],
   "source": [
    "def create_simple_rnn(x_train, y_train,units, drop=0, rec_drop=0):\n",
    "\n",
    "    input_layer = keras.layers.Input(batch_shape=[1, x_train.shape[1], x_train.shape[2]])\n",
    "    hidden_layer_1 = keras.layers.SimpleRNN(units=units, dropout=drop, recurrent_dropout=rec_drop, stateful=True, return_sequences=True)(input_layer)\n",
    "    hidden_layer_2 = keras.layers.SimpleRNN(units=units, dropout=drop, recurrent_dropout=rec_drop, stateful=True)(hidden_layer_1)\n",
    "    \n",
    "    output_layer = keras.layers.Dense(units=y_train.shape[1])(hidden_layer_2)\n",
    "    \n",
    "    model = keras.models.Model(inputs=input_layer, outputs=output_layer)\n",
    "    \n",
    "    return model"
   ]
  },
  {
   "cell_type": "code",
   "execution_count": 55,
   "metadata": {},
   "outputs": [],
   "source": [
    "def create_complex_rnn(x_train, y_train,units, drop=0, rec_drop=0):\n",
    "    input_layer = keras.layers.Input(batch_shape=[1, x_train.shape[1], x_train.shape[2]])\n",
    "    lstm_1 = keras.layers.LSTM(units=units, dropout=drop, recurrent_dropout=rec_drop, stateful=True, return_sequences=True)(input_layer)\n",
    "    lstm_2 = keras.layers.LSTM(units=units, dropout=drop, recurrent_dropout=rec_drop, stateful=True)(lstm_1)\n",
    "    \n",
    "    output_layer = keras.layers.Dense(activation='softmax',units=y_train.shape[1])(lstm_2)\n",
    "    model=keras.models.Model(inputs=input_layer, outputs=output_layer)\n",
    "    \n",
    "    return model\n"
   ]
  },
  {
   "cell_type": "code",
   "execution_count": 72,
   "metadata": {},
   "outputs": [],
   "source": [
    "def train_rnn(model, x_train, y_train, nb_epoch):\n",
    "    \n",
    "    model.fit(x_train, y_train, batch_size=1, epochs=nb_epoch, verbose=1)"
   ]
  },
  {
   "cell_type": "markdown",
   "metadata": {},
   "source": [
    "#### Modeler"
   ]
  },
  {
   "cell_type": "code",
   "execution_count": 57,
   "metadata": {},
   "outputs": [],
   "source": [
    "def display_model(model):\n",
    "    # affiche le résumé du modèle\n",
    "    model.summary()\n",
    "    # en créé une image\n",
    "    return tf.keras.utils.plot_model(model, show_shapes=True)\n"
   ]
  },
  {
   "cell_type": "code",
   "execution_count": 58,
   "metadata": {},
   "outputs": [],
   "source": [
    "def compile_model(model, mode='lstm', learning_r=0.01):\n",
    "    \"\"\"function to compile with preset parameters\n",
    "    \"\"\"\n",
    "    \n",
    "    if mode == 'lstm':\n",
    "        optimizer_alg = tf.keras.optimizers.Adam(learning_rate=learning_r)\n",
    "        model.compile(optimizer=optimizer_alg, loss='mean_squared_error', metrics=[\"accuracy\"])\n",
    "\n",
    "    if mode == 'cnn':\n",
    "        optimizer_alg = tf.keras.optimizers.SGD(learning_rate=learning_r)\n",
    "        model.compile(optimizer=optimizer_alg, loss='categorical_crossentropy', metrics=[\"accuracy\"])"
   ]
  },
  {
   "cell_type": "markdown",
   "metadata": {},
   "source": [
    "### Nettoyage des données"
   ]
  },
  {
   "cell_type": "code",
   "execution_count": 59,
   "metadata": {},
   "outputs": [],
   "source": [
    "def create_x_y(df):\n",
    "    # split the x's and y's\n",
    "    x, y = df.iloc[:, 1:].values, df.iloc[:, 0].values\n",
    "    \n",
    "    # Make the labels an integer repartition\n",
    "    encoder = preprocessing.LabelEncoder()\n",
    "    y_transformed = encoder.fit_transform(y)\n",
    "    \n",
    "    # Make the labels a binary representation of their int\n",
    "    encoder = preprocessing.OneHotEncoder()\n",
    "    y_transformed = encoder.fit_transform(y_transformed.reshape(-1, 1))\n",
    "    y_transformed = y_transformed.toarray()\n",
    "    \n",
    "    #Scale the X's\n",
    "    max_abs_scaler = preprocessing.MaxAbsScaler()\n",
    "    x_fitted = max_abs_scaler.fit_transform(x)    \n",
    "    \n",
    "    return x_fitted, y_transformed\n"
   ]
  },
  {
   "cell_type": "code",
   "execution_count": 60,
   "metadata": {},
   "outputs": [],
   "source": [
    "def get_train_test_cnn(df_train, df_test):\n",
    "    # on merge les dataframe en vue d'homogénéiser la normalisation des données\n",
    "    lg_train = df_train.shape[0]\n",
    "\n",
    "    df_test = df_test.reset_index(drop=True)\n",
    "    train_test_df = pd.concat([df_train, df_test], axis=0)\n",
    "    \n",
    "    # on fit les x et y sur l'ensemble du dataframe\n",
    "    x_fitted, y_fitted = create_x_y(train_test_df)\n",
    "    \n",
    "    # dans le cas du cnn 1d, il suffit de rajouter une dimension pour que le réseau comprenne la donnée\n",
    "    x_fitted = x_fitted.reshape(x_fitted.shape[0],x_fitted.shape[1],1)\n",
    "    \n",
    "    x_train, y_train = x_fitted[:lg_train], y_fitted[:lg_train]\n",
    "    x_test, y_test = x_fitted[lg_train:], y_fitted[lg_train:]\n",
    "    \n",
    "    return x_train, y_train, x_test, y_test\n"
   ]
  },
  {
   "cell_type": "code",
   "execution_count": 61,
   "metadata": {},
   "outputs": [],
   "source": [
    "def get_train_test_rnn(df_train, df_test):\n",
    "    \n",
    "    # on merge les dataframe en vue d'homogénéiser la normalisation des données\n",
    "    lg_train = df_train.shape[0]\n",
    "\n",
    "    df_test = df_test.reset_index(drop=True)\n",
    "    train_test_df = pd.concat([df_train, df_test], axis=0)\n",
    "    \n",
    "    # on fit les x et y sur l'ensemble du dataframe\n",
    "    x_fitted, y_fitted = create_x_y(train_test_df)\n",
    "    \n",
    "    #reshape the inner arrays of x_fitted\n",
    "    # chaque série temporelle est une suite de séquences de 1, les unes à la suite des autres\n",
    "    x_as_list = x_fitted.tolist()\n",
    "    x_to_fitted = [np.reshape(x, (-1, 1)) for x in x_as_list]\n",
    "    \n",
    "    x_fitted = np.array(x_to_fitted) \n",
    "    \n",
    "    x_train, y_train = x_fitted[:lg_train], y_fitted[:lg_train]\n",
    "    x_test, y_test = x_fitted[lg_train:], y_fitted[lg_train:]\n",
    "    \n",
    "    return x_train, y_train, x_test, y_test"
   ]
  },
  {
   "cell_type": "markdown",
   "metadata": {},
   "source": [
    "## DATAS"
   ]
  },
  {
   "cell_type": "markdown",
   "metadata": {},
   "source": [
    "### Import des données"
   ]
  },
  {
   "cell_type": "code",
   "execution_count": 62,
   "metadata": {},
   "outputs": [],
   "source": [
    "train_df = pd.read_csv('https://maxime-devanne.com/datasets/ECG200/ECG200_TRAIN.tsv', sep='\\t', header=None)\n",
    "test_df = pd.read_csv('https://maxime-devanne.com/datasets/ECG200/ECG200_TEST.tsv', sep='\\t', header=None)"
   ]
  },
  {
   "cell_type": "markdown",
   "metadata": {},
   "source": [
    "### Traitement des données"
   ]
  },
  {
   "cell_type": "markdown",
   "metadata": {},
   "source": [
    "#### Jeux de données CNN"
   ]
  },
  {
   "cell_type": "code",
   "execution_count": 63,
   "metadata": {},
   "outputs": [],
   "source": [
    "x_train_cnn, y_train, x_test_cnn, y_test = get_train_test_cnn(\n",
    "                                                        train_df,\n",
    "                                                        test_df\n",
    "                                                        )"
   ]
  },
  {
   "cell_type": "markdown",
   "metadata": {},
   "source": [
    "### Jeux de données RNN"
   ]
  },
  {
   "cell_type": "code",
   "execution_count": 64,
   "metadata": {},
   "outputs": [],
   "source": [
    "x_train_rnn, y_train, x_test_rnn, y_test = get_train_test_rnn(\n",
    "                                                        train_df,\n",
    "                                                        test_df\n",
    "                                                        )"
   ]
  },
  {
   "cell_type": "markdown",
   "metadata": {},
   "source": [
    "## CNN Models"
   ]
  },
  {
   "cell_type": "markdown",
   "metadata": {},
   "source": [
    "### Fonction d'obtentions des rnn suivants une liste de paramètres"
   ]
  },
  {
   "cell_type": "code",
   "execution_count": 65,
   "metadata": {},
   "outputs": [],
   "source": [
    "def get_cnn_models(nb_layers, params_cnn):\n",
    "    res = []\n",
    "    for param in params_cnn:\n",
    "    \n",
    "        local_res = param.copy()\n",
    "        \n",
    "        model = create_cnn(x_train_cnn, y_train, nb_layers=1, drop=param['drop'])\n",
    "        compile_model(model, mode='cnn', learning_r=param['learning_rate'])\n",
    "        \n",
    "        for i in range(2):\n",
    "            epochs = 50 + i *50\n",
    "            model.fit(x_train_cnn, y_train, batch_size=25, epochs=50, verbose=0)\n",
    "        \n",
    "            loss,acc = model.evaluate(x_test_cnn, y_test, batch_size=25, verbose=False)\n",
    "            \n",
    "            local_res[str(epochs)] = {'loss': loss, 'acc':acc}\n",
    "        \n",
    "        res.append(local_res)\n",
    "    \n",
    "    return res"
   ]
  },
  {
   "cell_type": "markdown",
   "metadata": {},
   "source": [
    "### Paramètrages des réseaux cnn"
   ]
  },
  {
   "cell_type": "code",
   "execution_count": 66,
   "metadata": {},
   "outputs": [],
   "source": [
    "params_cnn = []\n",
    "for i in range(1, 2):\n",
    "    for j in range(2, 3, 2):\n",
    "        params_cnn.append(\n",
    "            {\n",
    "                'drop': i/10,\n",
    "                'learning_rate': j/10\n",
    "            }\n",
    "        )\n",
    "        "
   ]
  },
  {
   "cell_type": "markdown",
   "metadata": {},
   "source": [
    "### Résultats"
   ]
  },
  {
   "cell_type": "markdown",
   "metadata": {},
   "source": [
    "#### Modèles 1 couche (long)"
   ]
  },
  {
   "cell_type": "code",
   "execution_count": 67,
   "metadata": {},
   "outputs": [
    {
     "name": "stdout",
     "output_type": "stream",
     "text": [
      "[{'drop': 0.1, 'learning_rate': 0.2, '50': {'loss': 0.41189631819725037, 'acc': 0.8399999737739563}, '100': {'loss': 0.475250780582428, 'acc': 0.8199999928474426}}]\n"
     ]
    }
   ],
   "source": [
    "layer_1_res = get_cnn_models(1, params_cnn)\n",
    "print(layer_1_res)"
   ]
  },
  {
   "cell_type": "markdown",
   "metadata": {},
   "source": [
    "#### Modèles 2 couches (long)"
   ]
  },
  {
   "cell_type": "code",
   "execution_count": 68,
   "metadata": {},
   "outputs": [],
   "source": [
    "layer_2_res = get_cnn_models(2, params_cnn)"
   ]
  },
  {
   "cell_type": "markdown",
   "metadata": {},
   "source": [
    "## RNN Models"
   ]
  },
  {
   "cell_type": "markdown",
   "metadata": {},
   "source": [
    "### Fonction d'obtention des RNN suivant les hyper-paramétres "
   ]
  },
  {
   "cell_type": "code",
   "execution_count": 73,
   "metadata": {},
   "outputs": [],
   "source": [
    "def get_rnn_models(typed, params_rnn):\n",
    "    res = []\n",
    "    for param in params_rnn:\n",
    "    \n",
    "        local_res = param.copy()\n",
    "        \n",
    "        if typed == 'simple':\n",
    "            model = create_simple_rnn(x_train_rnn, y_train, param['units'], drop=param['drop'], rec_drop=param['rec_drop'])\n",
    "        elif typed == 'complex':\n",
    "            model = create_complex_rnn(x_train_rnn, y_train, param['units'], drop=param['drop'], rec_drop=param['rec_drop'])\n",
    "       \n",
    "        compile_model(model, mode='lstm', learning_r=param['learning_rate'])\n",
    "        \n",
    "        for i in range(2):\n",
    "            epochs = 50 + i *50\n",
    "\n",
    "            train_rnn(model, x_train_rnn, y_train, 50)\n",
    "            loss,acc = model.evaluate(x_test_rnn, y_test, batch_size=1, verbose=1)\n",
    "            \n",
    "            local_res[str(epochs)] = {'loss': loss, 'acc':acc}\n",
    "        \n",
    "        res.append(local_res)\n",
    "    \n",
    "    return res"
   ]
  },
  {
   "cell_type": "markdown",
   "metadata": {},
   "source": [
    "### Paramétrages des hyper-paramètres RNN"
   ]
  },
  {
   "cell_type": "code",
   "execution_count": 74,
   "metadata": {},
   "outputs": [],
   "source": [
    "params_rnn = []\n",
    "for i in range(1, 2):\n",
    "    for x in range(1, 3):\n",
    "        for j in range(2, 5, 2):\n",
    "            for units in range(10, 26, 5):\n",
    "                params_rnn.append(\n",
    "                    {\n",
    "                        'drop': i/10,\n",
    "                        'rec_drop': x/10,\n",
    "                        'learning_rate': j/10,\n",
    "                        'units':units\n",
    "                    }\n",
    "                )"
   ]
  },
  {
   "cell_type": "markdown",
   "metadata": {},
   "source": [
    "### Résultats"
   ]
  },
  {
   "cell_type": "markdown",
   "metadata": {},
   "source": [
    "#### RNN simples (long)"
   ]
  },
  {
   "cell_type": "code",
   "execution_count": 75,
   "metadata": {},
   "outputs": [
    {
     "name": "stdout",
     "output_type": "stream",
     "text": [
      "Epoch 1/50\n",
      "100/100 [==============================] - 4s 32ms/step - loss: 1.2496 - accuracy: 0.5200\n",
      "Epoch 2/50\n",
      "100/100 [==============================] - 3s 32ms/step - loss: 0.4545 - accuracy: 0.5800\n",
      "Epoch 3/50\n",
      "100/100 [==============================] - 3s 32ms/step - loss: 0.5769 - accuracy: 0.5500\n",
      "Epoch 4/50\n",
      " 29/100 [=======>......................] - ETA: 2s - loss: 0.4526 - accuracy: 0.3448"
     ]
    },
    {
     "ename": "KeyboardInterrupt",
     "evalue": "",
     "output_type": "error",
     "traceback": [
      "\u001b[0;31m---------------------------------------------------------------------------\u001b[0m",
      "\u001b[0;31mKeyboardInterrupt\u001b[0m                         Traceback (most recent call last)",
      "\u001b[1;32m/home/couardcourageux/ensisa/2_annee/sem2/apprentissage/projet/crafa_calio.ipynb Cell 44'\u001b[0m in \u001b[0;36m<cell line: 1>\u001b[0;34m()\u001b[0m\n\u001b[0;32m----> <a href='vscode-notebook-cell:/home/couardcourageux/ensisa/2_annee/sem2/apprentissage/projet/crafa_calio.ipynb#ch0000046?line=0'>1</a>\u001b[0m simple_rnn_res \u001b[39m=\u001b[39m get_rnn_models(\u001b[39m'\u001b[39;49m\u001b[39msimple\u001b[39;49m\u001b[39m'\u001b[39;49m, params_rnn)\n\u001b[1;32m      <a href='vscode-notebook-cell:/home/couardcourageux/ensisa/2_annee/sem2/apprentissage/projet/crafa_calio.ipynb#ch0000046?line=1'>2</a>\u001b[0m \u001b[39mprint\u001b[39m(simple_rnn_res)\n",
      "\u001b[1;32m/home/couardcourageux/ensisa/2_annee/sem2/apprentissage/projet/crafa_calio.ipynb Cell 39'\u001b[0m in \u001b[0;36mget_rnn_models\u001b[0;34m(typed, params_rnn)\u001b[0m\n\u001b[1;32m     <a href='vscode-notebook-cell:/home/couardcourageux/ensisa/2_annee/sem2/apprentissage/projet/crafa_calio.ipynb#ch0000040?line=13'>14</a>\u001b[0m \u001b[39mfor\u001b[39;00m i \u001b[39min\u001b[39;00m \u001b[39mrange\u001b[39m(\u001b[39m2\u001b[39m):\n\u001b[1;32m     <a href='vscode-notebook-cell:/home/couardcourageux/ensisa/2_annee/sem2/apprentissage/projet/crafa_calio.ipynb#ch0000040?line=14'>15</a>\u001b[0m     epochs \u001b[39m=\u001b[39m \u001b[39m50\u001b[39m \u001b[39m+\u001b[39m i \u001b[39m*\u001b[39m\u001b[39m50\u001b[39m\n\u001b[0;32m---> <a href='vscode-notebook-cell:/home/couardcourageux/ensisa/2_annee/sem2/apprentissage/projet/crafa_calio.ipynb#ch0000040?line=16'>17</a>\u001b[0m     train_rnn(model, x_train_rnn, y_train, \u001b[39m50\u001b[39;49m)\n\u001b[1;32m     <a href='vscode-notebook-cell:/home/couardcourageux/ensisa/2_annee/sem2/apprentissage/projet/crafa_calio.ipynb#ch0000040?line=17'>18</a>\u001b[0m     loss,acc \u001b[39m=\u001b[39m model\u001b[39m.\u001b[39mevaluate(x_test_rnn, y_test, batch_size\u001b[39m=\u001b[39m\u001b[39m1\u001b[39m, verbose\u001b[39m=\u001b[39m\u001b[39m1\u001b[39m)\n\u001b[1;32m     <a href='vscode-notebook-cell:/home/couardcourageux/ensisa/2_annee/sem2/apprentissage/projet/crafa_calio.ipynb#ch0000040?line=19'>20</a>\u001b[0m     local_res[\u001b[39mstr\u001b[39m(epochs)] \u001b[39m=\u001b[39m {\u001b[39m'\u001b[39m\u001b[39mloss\u001b[39m\u001b[39m'\u001b[39m: loss, \u001b[39m'\u001b[39m\u001b[39macc\u001b[39m\u001b[39m'\u001b[39m:acc}\n",
      "\u001b[1;32m/home/couardcourageux/ensisa/2_annee/sem2/apprentissage/projet/crafa_calio.ipynb Cell 11'\u001b[0m in \u001b[0;36mtrain_rnn\u001b[0;34m(model, x_train, y_train, nb_epoch)\u001b[0m\n\u001b[1;32m      <a href='vscode-notebook-cell:/home/couardcourageux/ensisa/2_annee/sem2/apprentissage/projet/crafa_calio.ipynb#ch0000010?line=0'>1</a>\u001b[0m \u001b[39mdef\u001b[39;00m \u001b[39mtrain_rnn\u001b[39m(model, x_train, y_train, nb_epoch):\n\u001b[0;32m----> <a href='vscode-notebook-cell:/home/couardcourageux/ensisa/2_annee/sem2/apprentissage/projet/crafa_calio.ipynb#ch0000010?line=2'>3</a>\u001b[0m     model\u001b[39m.\u001b[39;49mfit(x_train, y_train, batch_size\u001b[39m=\u001b[39;49m\u001b[39m1\u001b[39;49m, epochs\u001b[39m=\u001b[39;49mnb_epoch, verbose\u001b[39m=\u001b[39;49m\u001b[39m1\u001b[39;49m)\n",
      "File \u001b[0;32m~/.local/lib/python3.10/site-packages/keras/utils/traceback_utils.py:64\u001b[0m, in \u001b[0;36mfilter_traceback.<locals>.error_handler\u001b[0;34m(*args, **kwargs)\u001b[0m\n\u001b[1;32m     <a href='file:///home/couardcourageux/.local/lib/python3.10/site-packages/keras/utils/traceback_utils.py?line=61'>62</a>\u001b[0m filtered_tb \u001b[39m=\u001b[39m \u001b[39mNone\u001b[39;00m\n\u001b[1;32m     <a href='file:///home/couardcourageux/.local/lib/python3.10/site-packages/keras/utils/traceback_utils.py?line=62'>63</a>\u001b[0m \u001b[39mtry\u001b[39;00m:\n\u001b[0;32m---> <a href='file:///home/couardcourageux/.local/lib/python3.10/site-packages/keras/utils/traceback_utils.py?line=63'>64</a>\u001b[0m   \u001b[39mreturn\u001b[39;00m fn(\u001b[39m*\u001b[39;49margs, \u001b[39m*\u001b[39;49m\u001b[39m*\u001b[39;49mkwargs)\n\u001b[1;32m     <a href='file:///home/couardcourageux/.local/lib/python3.10/site-packages/keras/utils/traceback_utils.py?line=64'>65</a>\u001b[0m \u001b[39mexcept\u001b[39;00m \u001b[39mException\u001b[39;00m \u001b[39mas\u001b[39;00m e:  \u001b[39m# pylint: disable=broad-except\u001b[39;00m\n\u001b[1;32m     <a href='file:///home/couardcourageux/.local/lib/python3.10/site-packages/keras/utils/traceback_utils.py?line=65'>66</a>\u001b[0m   filtered_tb \u001b[39m=\u001b[39m _process_traceback_frames(e\u001b[39m.\u001b[39m__traceback__)\n",
      "File \u001b[0;32m~/.local/lib/python3.10/site-packages/keras/engine/training.py:1409\u001b[0m, in \u001b[0;36mModel.fit\u001b[0;34m(self, x, y, batch_size, epochs, verbose, callbacks, validation_split, validation_data, shuffle, class_weight, sample_weight, initial_epoch, steps_per_epoch, validation_steps, validation_batch_size, validation_freq, max_queue_size, workers, use_multiprocessing)\u001b[0m\n\u001b[1;32m   <a href='file:///home/couardcourageux/.local/lib/python3.10/site-packages/keras/engine/training.py?line=1401'>1402</a>\u001b[0m \u001b[39mwith\u001b[39;00m tf\u001b[39m.\u001b[39mprofiler\u001b[39m.\u001b[39mexperimental\u001b[39m.\u001b[39mTrace(\n\u001b[1;32m   <a href='file:///home/couardcourageux/.local/lib/python3.10/site-packages/keras/engine/training.py?line=1402'>1403</a>\u001b[0m     \u001b[39m'\u001b[39m\u001b[39mtrain\u001b[39m\u001b[39m'\u001b[39m,\n\u001b[1;32m   <a href='file:///home/couardcourageux/.local/lib/python3.10/site-packages/keras/engine/training.py?line=1403'>1404</a>\u001b[0m     epoch_num\u001b[39m=\u001b[39mepoch,\n\u001b[1;32m   <a href='file:///home/couardcourageux/.local/lib/python3.10/site-packages/keras/engine/training.py?line=1404'>1405</a>\u001b[0m     step_num\u001b[39m=\u001b[39mstep,\n\u001b[1;32m   <a href='file:///home/couardcourageux/.local/lib/python3.10/site-packages/keras/engine/training.py?line=1405'>1406</a>\u001b[0m     batch_size\u001b[39m=\u001b[39mbatch_size,\n\u001b[1;32m   <a href='file:///home/couardcourageux/.local/lib/python3.10/site-packages/keras/engine/training.py?line=1406'>1407</a>\u001b[0m     _r\u001b[39m=\u001b[39m\u001b[39m1\u001b[39m):\n\u001b[1;32m   <a href='file:///home/couardcourageux/.local/lib/python3.10/site-packages/keras/engine/training.py?line=1407'>1408</a>\u001b[0m   callbacks\u001b[39m.\u001b[39mon_train_batch_begin(step)\n\u001b[0;32m-> <a href='file:///home/couardcourageux/.local/lib/python3.10/site-packages/keras/engine/training.py?line=1408'>1409</a>\u001b[0m   tmp_logs \u001b[39m=\u001b[39m \u001b[39mself\u001b[39;49m\u001b[39m.\u001b[39;49mtrain_function(iterator)\n\u001b[1;32m   <a href='file:///home/couardcourageux/.local/lib/python3.10/site-packages/keras/engine/training.py?line=1409'>1410</a>\u001b[0m   \u001b[39mif\u001b[39;00m data_handler\u001b[39m.\u001b[39mshould_sync:\n\u001b[1;32m   <a href='file:///home/couardcourageux/.local/lib/python3.10/site-packages/keras/engine/training.py?line=1410'>1411</a>\u001b[0m     context\u001b[39m.\u001b[39masync_wait()\n",
      "File \u001b[0;32m~/.local/lib/python3.10/site-packages/tensorflow/python/util/traceback_utils.py:150\u001b[0m, in \u001b[0;36mfilter_traceback.<locals>.error_handler\u001b[0;34m(*args, **kwargs)\u001b[0m\n\u001b[1;32m    <a href='file:///home/couardcourageux/.local/lib/python3.10/site-packages/tensorflow/python/util/traceback_utils.py?line=147'>148</a>\u001b[0m filtered_tb \u001b[39m=\u001b[39m \u001b[39mNone\u001b[39;00m\n\u001b[1;32m    <a href='file:///home/couardcourageux/.local/lib/python3.10/site-packages/tensorflow/python/util/traceback_utils.py?line=148'>149</a>\u001b[0m \u001b[39mtry\u001b[39;00m:\n\u001b[0;32m--> <a href='file:///home/couardcourageux/.local/lib/python3.10/site-packages/tensorflow/python/util/traceback_utils.py?line=149'>150</a>\u001b[0m   \u001b[39mreturn\u001b[39;00m fn(\u001b[39m*\u001b[39;49margs, \u001b[39m*\u001b[39;49m\u001b[39m*\u001b[39;49mkwargs)\n\u001b[1;32m    <a href='file:///home/couardcourageux/.local/lib/python3.10/site-packages/tensorflow/python/util/traceback_utils.py?line=150'>151</a>\u001b[0m \u001b[39mexcept\u001b[39;00m \u001b[39mException\u001b[39;00m \u001b[39mas\u001b[39;00m e:\n\u001b[1;32m    <a href='file:///home/couardcourageux/.local/lib/python3.10/site-packages/tensorflow/python/util/traceback_utils.py?line=151'>152</a>\u001b[0m   filtered_tb \u001b[39m=\u001b[39m _process_traceback_frames(e\u001b[39m.\u001b[39m__traceback__)\n",
      "File \u001b[0;32m~/.local/lib/python3.10/site-packages/tensorflow/python/eager/def_function.py:915\u001b[0m, in \u001b[0;36mFunction.__call__\u001b[0;34m(self, *args, **kwds)\u001b[0m\n\u001b[1;32m    <a href='file:///home/couardcourageux/.local/lib/python3.10/site-packages/tensorflow/python/eager/def_function.py?line=911'>912</a>\u001b[0m compiler \u001b[39m=\u001b[39m \u001b[39m\"\u001b[39m\u001b[39mxla\u001b[39m\u001b[39m\"\u001b[39m \u001b[39mif\u001b[39;00m \u001b[39mself\u001b[39m\u001b[39m.\u001b[39m_jit_compile \u001b[39melse\u001b[39;00m \u001b[39m\"\u001b[39m\u001b[39mnonXla\u001b[39m\u001b[39m\"\u001b[39m\n\u001b[1;32m    <a href='file:///home/couardcourageux/.local/lib/python3.10/site-packages/tensorflow/python/eager/def_function.py?line=913'>914</a>\u001b[0m \u001b[39mwith\u001b[39;00m OptionalXlaContext(\u001b[39mself\u001b[39m\u001b[39m.\u001b[39m_jit_compile):\n\u001b[0;32m--> <a href='file:///home/couardcourageux/.local/lib/python3.10/site-packages/tensorflow/python/eager/def_function.py?line=914'>915</a>\u001b[0m   result \u001b[39m=\u001b[39m \u001b[39mself\u001b[39;49m\u001b[39m.\u001b[39;49m_call(\u001b[39m*\u001b[39;49margs, \u001b[39m*\u001b[39;49m\u001b[39m*\u001b[39;49mkwds)\n\u001b[1;32m    <a href='file:///home/couardcourageux/.local/lib/python3.10/site-packages/tensorflow/python/eager/def_function.py?line=916'>917</a>\u001b[0m new_tracing_count \u001b[39m=\u001b[39m \u001b[39mself\u001b[39m\u001b[39m.\u001b[39mexperimental_get_tracing_count()\n\u001b[1;32m    <a href='file:///home/couardcourageux/.local/lib/python3.10/site-packages/tensorflow/python/eager/def_function.py?line=917'>918</a>\u001b[0m without_tracing \u001b[39m=\u001b[39m (tracing_count \u001b[39m==\u001b[39m new_tracing_count)\n",
      "File \u001b[0;32m~/.local/lib/python3.10/site-packages/tensorflow/python/eager/def_function.py:947\u001b[0m, in \u001b[0;36mFunction._call\u001b[0;34m(self, *args, **kwds)\u001b[0m\n\u001b[1;32m    <a href='file:///home/couardcourageux/.local/lib/python3.10/site-packages/tensorflow/python/eager/def_function.py?line=943'>944</a>\u001b[0m   \u001b[39mself\u001b[39m\u001b[39m.\u001b[39m_lock\u001b[39m.\u001b[39mrelease()\n\u001b[1;32m    <a href='file:///home/couardcourageux/.local/lib/python3.10/site-packages/tensorflow/python/eager/def_function.py?line=944'>945</a>\u001b[0m   \u001b[39m# In this case we have created variables on the first call, so we run the\u001b[39;00m\n\u001b[1;32m    <a href='file:///home/couardcourageux/.local/lib/python3.10/site-packages/tensorflow/python/eager/def_function.py?line=945'>946</a>\u001b[0m   \u001b[39m# defunned version which is guaranteed to never create variables.\u001b[39;00m\n\u001b[0;32m--> <a href='file:///home/couardcourageux/.local/lib/python3.10/site-packages/tensorflow/python/eager/def_function.py?line=946'>947</a>\u001b[0m   \u001b[39mreturn\u001b[39;00m \u001b[39mself\u001b[39;49m\u001b[39m.\u001b[39;49m_stateless_fn(\u001b[39m*\u001b[39;49margs, \u001b[39m*\u001b[39;49m\u001b[39m*\u001b[39;49mkwds)  \u001b[39m# pylint: disable=not-callable\u001b[39;00m\n\u001b[1;32m    <a href='file:///home/couardcourageux/.local/lib/python3.10/site-packages/tensorflow/python/eager/def_function.py?line=947'>948</a>\u001b[0m \u001b[39melif\u001b[39;00m \u001b[39mself\u001b[39m\u001b[39m.\u001b[39m_stateful_fn \u001b[39mis\u001b[39;00m \u001b[39mnot\u001b[39;00m \u001b[39mNone\u001b[39;00m:\n\u001b[1;32m    <a href='file:///home/couardcourageux/.local/lib/python3.10/site-packages/tensorflow/python/eager/def_function.py?line=948'>949</a>\u001b[0m   \u001b[39m# Release the lock early so that multiple threads can perform the call\u001b[39;00m\n\u001b[1;32m    <a href='file:///home/couardcourageux/.local/lib/python3.10/site-packages/tensorflow/python/eager/def_function.py?line=949'>950</a>\u001b[0m   \u001b[39m# in parallel.\u001b[39;00m\n\u001b[1;32m    <a href='file:///home/couardcourageux/.local/lib/python3.10/site-packages/tensorflow/python/eager/def_function.py?line=950'>951</a>\u001b[0m   \u001b[39mself\u001b[39m\u001b[39m.\u001b[39m_lock\u001b[39m.\u001b[39mrelease()\n",
      "File \u001b[0;32m~/.local/lib/python3.10/site-packages/tensorflow/python/eager/function.py:2453\u001b[0m, in \u001b[0;36mFunction.__call__\u001b[0;34m(self, *args, **kwargs)\u001b[0m\n\u001b[1;32m   <a href='file:///home/couardcourageux/.local/lib/python3.10/site-packages/tensorflow/python/eager/function.py?line=2449'>2450</a>\u001b[0m \u001b[39mwith\u001b[39;00m \u001b[39mself\u001b[39m\u001b[39m.\u001b[39m_lock:\n\u001b[1;32m   <a href='file:///home/couardcourageux/.local/lib/python3.10/site-packages/tensorflow/python/eager/function.py?line=2450'>2451</a>\u001b[0m   (graph_function,\n\u001b[1;32m   <a href='file:///home/couardcourageux/.local/lib/python3.10/site-packages/tensorflow/python/eager/function.py?line=2451'>2452</a>\u001b[0m    filtered_flat_args) \u001b[39m=\u001b[39m \u001b[39mself\u001b[39m\u001b[39m.\u001b[39m_maybe_define_function(args, kwargs)\n\u001b[0;32m-> <a href='file:///home/couardcourageux/.local/lib/python3.10/site-packages/tensorflow/python/eager/function.py?line=2452'>2453</a>\u001b[0m \u001b[39mreturn\u001b[39;00m graph_function\u001b[39m.\u001b[39;49m_call_flat(\n\u001b[1;32m   <a href='file:///home/couardcourageux/.local/lib/python3.10/site-packages/tensorflow/python/eager/function.py?line=2453'>2454</a>\u001b[0m     filtered_flat_args, captured_inputs\u001b[39m=\u001b[39;49mgraph_function\u001b[39m.\u001b[39;49mcaptured_inputs)\n",
      "File \u001b[0;32m~/.local/lib/python3.10/site-packages/tensorflow/python/eager/function.py:1860\u001b[0m, in \u001b[0;36mConcreteFunction._call_flat\u001b[0;34m(self, args, captured_inputs, cancellation_manager)\u001b[0m\n\u001b[1;32m   <a href='file:///home/couardcourageux/.local/lib/python3.10/site-packages/tensorflow/python/eager/function.py?line=1855'>1856</a>\u001b[0m possible_gradient_type \u001b[39m=\u001b[39m gradients_util\u001b[39m.\u001b[39mPossibleTapeGradientTypes(args)\n\u001b[1;32m   <a href='file:///home/couardcourageux/.local/lib/python3.10/site-packages/tensorflow/python/eager/function.py?line=1856'>1857</a>\u001b[0m \u001b[39mif\u001b[39;00m (possible_gradient_type \u001b[39m==\u001b[39m gradients_util\u001b[39m.\u001b[39mPOSSIBLE_GRADIENT_TYPES_NONE\n\u001b[1;32m   <a href='file:///home/couardcourageux/.local/lib/python3.10/site-packages/tensorflow/python/eager/function.py?line=1857'>1858</a>\u001b[0m     \u001b[39mand\u001b[39;00m executing_eagerly):\n\u001b[1;32m   <a href='file:///home/couardcourageux/.local/lib/python3.10/site-packages/tensorflow/python/eager/function.py?line=1858'>1859</a>\u001b[0m   \u001b[39m# No tape is watching; skip to running the function.\u001b[39;00m\n\u001b[0;32m-> <a href='file:///home/couardcourageux/.local/lib/python3.10/site-packages/tensorflow/python/eager/function.py?line=1859'>1860</a>\u001b[0m   \u001b[39mreturn\u001b[39;00m \u001b[39mself\u001b[39m\u001b[39m.\u001b[39m_build_call_outputs(\u001b[39mself\u001b[39;49m\u001b[39m.\u001b[39;49m_inference_function\u001b[39m.\u001b[39;49mcall(\n\u001b[1;32m   <a href='file:///home/couardcourageux/.local/lib/python3.10/site-packages/tensorflow/python/eager/function.py?line=1860'>1861</a>\u001b[0m       ctx, args, cancellation_manager\u001b[39m=\u001b[39;49mcancellation_manager))\n\u001b[1;32m   <a href='file:///home/couardcourageux/.local/lib/python3.10/site-packages/tensorflow/python/eager/function.py?line=1861'>1862</a>\u001b[0m forward_backward \u001b[39m=\u001b[39m \u001b[39mself\u001b[39m\u001b[39m.\u001b[39m_select_forward_and_backward_functions(\n\u001b[1;32m   <a href='file:///home/couardcourageux/.local/lib/python3.10/site-packages/tensorflow/python/eager/function.py?line=1862'>1863</a>\u001b[0m     args,\n\u001b[1;32m   <a href='file:///home/couardcourageux/.local/lib/python3.10/site-packages/tensorflow/python/eager/function.py?line=1863'>1864</a>\u001b[0m     possible_gradient_type,\n\u001b[1;32m   <a href='file:///home/couardcourageux/.local/lib/python3.10/site-packages/tensorflow/python/eager/function.py?line=1864'>1865</a>\u001b[0m     executing_eagerly)\n\u001b[1;32m   <a href='file:///home/couardcourageux/.local/lib/python3.10/site-packages/tensorflow/python/eager/function.py?line=1865'>1866</a>\u001b[0m forward_function, args_with_tangents \u001b[39m=\u001b[39m forward_backward\u001b[39m.\u001b[39mforward()\n",
      "File \u001b[0;32m~/.local/lib/python3.10/site-packages/tensorflow/python/eager/function.py:497\u001b[0m, in \u001b[0;36m_EagerDefinedFunction.call\u001b[0;34m(self, ctx, args, cancellation_manager)\u001b[0m\n\u001b[1;32m    <a href='file:///home/couardcourageux/.local/lib/python3.10/site-packages/tensorflow/python/eager/function.py?line=494'>495</a>\u001b[0m \u001b[39mwith\u001b[39;00m _InterpolateFunctionError(\u001b[39mself\u001b[39m):\n\u001b[1;32m    <a href='file:///home/couardcourageux/.local/lib/python3.10/site-packages/tensorflow/python/eager/function.py?line=495'>496</a>\u001b[0m   \u001b[39mif\u001b[39;00m cancellation_manager \u001b[39mis\u001b[39;00m \u001b[39mNone\u001b[39;00m:\n\u001b[0;32m--> <a href='file:///home/couardcourageux/.local/lib/python3.10/site-packages/tensorflow/python/eager/function.py?line=496'>497</a>\u001b[0m     outputs \u001b[39m=\u001b[39m execute\u001b[39m.\u001b[39;49mexecute(\n\u001b[1;32m    <a href='file:///home/couardcourageux/.local/lib/python3.10/site-packages/tensorflow/python/eager/function.py?line=497'>498</a>\u001b[0m         \u001b[39mstr\u001b[39;49m(\u001b[39mself\u001b[39;49m\u001b[39m.\u001b[39;49msignature\u001b[39m.\u001b[39;49mname),\n\u001b[1;32m    <a href='file:///home/couardcourageux/.local/lib/python3.10/site-packages/tensorflow/python/eager/function.py?line=498'>499</a>\u001b[0m         num_outputs\u001b[39m=\u001b[39;49m\u001b[39mself\u001b[39;49m\u001b[39m.\u001b[39;49m_num_outputs,\n\u001b[1;32m    <a href='file:///home/couardcourageux/.local/lib/python3.10/site-packages/tensorflow/python/eager/function.py?line=499'>500</a>\u001b[0m         inputs\u001b[39m=\u001b[39;49margs,\n\u001b[1;32m    <a href='file:///home/couardcourageux/.local/lib/python3.10/site-packages/tensorflow/python/eager/function.py?line=500'>501</a>\u001b[0m         attrs\u001b[39m=\u001b[39;49mattrs,\n\u001b[1;32m    <a href='file:///home/couardcourageux/.local/lib/python3.10/site-packages/tensorflow/python/eager/function.py?line=501'>502</a>\u001b[0m         ctx\u001b[39m=\u001b[39;49mctx)\n\u001b[1;32m    <a href='file:///home/couardcourageux/.local/lib/python3.10/site-packages/tensorflow/python/eager/function.py?line=502'>503</a>\u001b[0m   \u001b[39melse\u001b[39;00m:\n\u001b[1;32m    <a href='file:///home/couardcourageux/.local/lib/python3.10/site-packages/tensorflow/python/eager/function.py?line=503'>504</a>\u001b[0m     outputs \u001b[39m=\u001b[39m execute\u001b[39m.\u001b[39mexecute_with_cancellation(\n\u001b[1;32m    <a href='file:///home/couardcourageux/.local/lib/python3.10/site-packages/tensorflow/python/eager/function.py?line=504'>505</a>\u001b[0m         \u001b[39mstr\u001b[39m(\u001b[39mself\u001b[39m\u001b[39m.\u001b[39msignature\u001b[39m.\u001b[39mname),\n\u001b[1;32m    <a href='file:///home/couardcourageux/.local/lib/python3.10/site-packages/tensorflow/python/eager/function.py?line=505'>506</a>\u001b[0m         num_outputs\u001b[39m=\u001b[39m\u001b[39mself\u001b[39m\u001b[39m.\u001b[39m_num_outputs,\n\u001b[0;32m   (...)\u001b[0m\n\u001b[1;32m    <a href='file:///home/couardcourageux/.local/lib/python3.10/site-packages/tensorflow/python/eager/function.py?line=508'>509</a>\u001b[0m         ctx\u001b[39m=\u001b[39mctx,\n\u001b[1;32m    <a href='file:///home/couardcourageux/.local/lib/python3.10/site-packages/tensorflow/python/eager/function.py?line=509'>510</a>\u001b[0m         cancellation_manager\u001b[39m=\u001b[39mcancellation_manager)\n",
      "File \u001b[0;32m~/.local/lib/python3.10/site-packages/tensorflow/python/eager/execute.py:54\u001b[0m, in \u001b[0;36mquick_execute\u001b[0;34m(op_name, num_outputs, inputs, attrs, ctx, name)\u001b[0m\n\u001b[1;32m     <a href='file:///home/couardcourageux/.local/lib/python3.10/site-packages/tensorflow/python/eager/execute.py?line=51'>52</a>\u001b[0m \u001b[39mtry\u001b[39;00m:\n\u001b[1;32m     <a href='file:///home/couardcourageux/.local/lib/python3.10/site-packages/tensorflow/python/eager/execute.py?line=52'>53</a>\u001b[0m   ctx\u001b[39m.\u001b[39mensure_initialized()\n\u001b[0;32m---> <a href='file:///home/couardcourageux/.local/lib/python3.10/site-packages/tensorflow/python/eager/execute.py?line=53'>54</a>\u001b[0m   tensors \u001b[39m=\u001b[39m pywrap_tfe\u001b[39m.\u001b[39;49mTFE_Py_Execute(ctx\u001b[39m.\u001b[39;49m_handle, device_name, op_name,\n\u001b[1;32m     <a href='file:///home/couardcourageux/.local/lib/python3.10/site-packages/tensorflow/python/eager/execute.py?line=54'>55</a>\u001b[0m                                       inputs, attrs, num_outputs)\n\u001b[1;32m     <a href='file:///home/couardcourageux/.local/lib/python3.10/site-packages/tensorflow/python/eager/execute.py?line=55'>56</a>\u001b[0m \u001b[39mexcept\u001b[39;00m core\u001b[39m.\u001b[39m_NotOkStatusException \u001b[39mas\u001b[39;00m e:\n\u001b[1;32m     <a href='file:///home/couardcourageux/.local/lib/python3.10/site-packages/tensorflow/python/eager/execute.py?line=56'>57</a>\u001b[0m   \u001b[39mif\u001b[39;00m name \u001b[39mis\u001b[39;00m \u001b[39mnot\u001b[39;00m \u001b[39mNone\u001b[39;00m:\n",
      "\u001b[0;31mKeyboardInterrupt\u001b[0m: "
     ]
    }
   ],
   "source": [
    "simple_rnn_res = get_rnn_models('simple', params_rnn)\n",
    "print(simple_rnn_res)"
   ]
  },
  {
   "cell_type": "markdown",
   "metadata": {},
   "source": [
    "#### RNN complexes (très long)"
   ]
  },
  {
   "cell_type": "code",
   "execution_count": null,
   "metadata": {},
   "outputs": [],
   "source": [
    "complex_rnn_res = get_rnn_models('complex', params_rnn)"
   ]
  }
 ],
 "metadata": {
  "interpreter": {
   "hash": "4e1d9a8909477db77738c33245c29c7265277ef753467dede8cf3f814cde494e"
  },
  "kernelspec": {
   "display_name": "Python 3.10.4 64-bit",
   "language": "python",
   "name": "python3"
  },
  "language_info": {
   "codemirror_mode": {
    "name": "ipython",
    "version": 3
   },
   "file_extension": ".py",
   "mimetype": "text/x-python",
   "name": "python",
   "nbconvert_exporter": "python",
   "pygments_lexer": "ipython3",
   "version": "3.10.4"
  },
  "orig_nbformat": 4
 },
 "nbformat": 4,
 "nbformat_minor": 2
}
